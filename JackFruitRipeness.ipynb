{
  "nbformat": 4,
  "nbformat_minor": 0,
  "metadata": {
    "colab": {
      "provenance": [],
      "authorship_tag": "ABX9TyP2NaeYAAE1502uGnjj+rpt",
      "include_colab_link": true
    },
    "kernelspec": {
      "name": "python3",
      "display_name": "Python 3"
    },
    "language_info": {
      "name": "python"
    }
  },
  "cells": [
    {
      "cell_type": "markdown",
      "metadata": {
        "id": "view-in-github",
        "colab_type": "text"
      },
      "source": [
        "<a href=\"https://colab.research.google.com/github/anand176/JackFruit__Ripeness-Detection-System/blob/master/JackFruitRipeness.ipynb\" target=\"_parent\"><img src=\"https://colab.research.google.com/assets/colab-badge.svg\" alt=\"Open In Colab\"/></a>"
      ]
    },
    {
      "cell_type": "code",
      "execution_count": null,
      "metadata": {
        "id": "wR-vc2lPnuvV"
      },
      "outputs": [],
      "source": [
        "from google.colab import drive\n",
        "drive.mount('/content/drive')"
      ]
    },
    {
      "cell_type": "code",
      "source": [
        "import numpy as np\n",
        "from PIL import Image\n",
        "import matplotlib.pyplot as plt\n",
        "import matplotlib.image as mpimg\n",
        "from sklearn.model_selection import train_test_split"
      ],
      "metadata": {
        "id": "lCQLObGZn221"
      },
      "execution_count": null,
      "outputs": []
    },
    {
      "cell_type": "code",
      "source": [
        "import os\n",
        "labels=[]\n",
        "file_names=os.listdir('/content/drive/MyDrive/resized')\n",
        "print(file_names)\n",
        "for file in file_names:\n",
        "    if file[0]=='r':\n",
        "\n",
        "        labels.append(1)\n",
        "    else:\n",
        "\n",
        "        labels.append(0)\n"
      ],
      "metadata": {
        "id": "BxH44Wx_n8M_"
      },
      "execution_count": null,
      "outputs": []
    },
    {
      "cell_type": "code",
      "source": [
        "import cv2\n",
        "import glob\n",
        "image_directory='/content/drive/MyDrive/resized/'\n",
        "image_extension=['png','jpg']\n",
        "files=[]\n",
        "# matching_files = glob.glob(directory + '*.jpg')\n",
        "print(files)\n",
        "[files.extend(glob.glob(image_directory+'*.jpeg'))]\n",
        "images_array=np.asarray([cv2.imread(file) for file in files])\n",
        "print(type(images_array))\n",
        "# print(images_array)\n",
        "print(images_array.shape)"
      ],
      "metadata": {
        "id": "39F1x-eDoB-C"
      },
      "execution_count": null,
      "outputs": []
    },
    {
      "cell_type": "code",
      "source": [
        "X=images_array\n",
        "Y=np.asarray(labels)"
      ],
      "metadata": {
        "id": "sTk-XjrjoFQo"
      },
      "execution_count": null,
      "outputs": []
    },
    {
      "cell_type": "code",
      "source": [
        "X_train,X_test,Y_train,Y_test=train_test_split(X,Y,test_size=0.2,random_state=2)"
      ],
      "metadata": {
        "id": "1iDkNwfZoLCI"
      },
      "execution_count": null,
      "outputs": []
    },
    {
      "cell_type": "code",
      "source": [
        "X_train_scaled=X_train/255\n",
        "X_test_scaled=X_test/255"
      ],
      "metadata": {
        "id": "vCOmOep3oNL6"
      },
      "execution_count": null,
      "outputs": []
    },
    {
      "cell_type": "code",
      "source": [
        "import tensorflow as tf\n",
        "from tensorflow import keras\n",
        "from keras import Sequential\n",
        "from keras.layers import Dense,Conv2D,MaxPooling2D,Flatten,BatchNormalization,Dropout"
      ],
      "metadata": {
        "id": "AoykrbY5oPha"
      },
      "execution_count": null,
      "outputs": []
    },
    {
      "cell_type": "code",
      "source": [
        "model = Sequential()\n",
        "\n",
        "model.add(Conv2D(32,kernel_size=(3,3),padding='valid',activation='relu',input_shape=(224,224,3)))\n",
        "model.add(BatchNormalization())\n",
        "model.add(MaxPooling2D(pool_size=(2,2),strides=2,padding='valid'))\n",
        "\n",
        "model.add(Conv2D(64,kernel_size=(3,3),padding='valid',activation='relu'))\n",
        "model.add(BatchNormalization())\n",
        "model.add(MaxPooling2D(pool_size=(2,2),strides=2,padding='valid'))\n",
        "\n",
        "model.add(Conv2D(128,kernel_size=(3,3),padding='valid',activation='relu'))\n",
        "model.add(BatchNormalization())\n",
        "model.add(MaxPooling2D(pool_size=(2,2),strides=2,padding='valid'))\n",
        "\n",
        "model.add(Flatten())\n",
        "\n",
        "model.add(Dense(128,activation='relu'))\n",
        "model.add(Dropout(0.1))\n",
        "model.add(Dense(64,activation='relu'))\n",
        "model.add(Dropout(0.1))\n",
        "model.add(Dense(1,activation='sigmoid'))"
      ],
      "metadata": {
        "id": "sIM8q-yWoRwT"
      },
      "execution_count": null,
      "outputs": []
    },
    {
      "cell_type": "code",
      "source": [
        "model.summary()"
      ],
      "metadata": {
        "id": "7nagxFzIoUXD"
      },
      "execution_count": null,
      "outputs": []
    },
    {
      "cell_type": "code",
      "source": [
        "model.compile(optimizer='adam',loss='binary_crossentropy',metrics=['accuracy'])\n",
        "# model.compile(\n",
        "#     optimizer='adam',\n",
        "#     loss=tf.keras.losses.SparseCategoricalCrossentropy(from_logits=True),\n",
        "#     metrics=['acc']\n",
        "\n",
        "# )"
      ],
      "metadata": {
        "id": "28qqn8SZoW2W"
      },
      "execution_count": null,
      "outputs": []
    },
    {
      "cell_type": "code",
      "source": [
        "model.fit(X_train_scaled,Y_train,epochs=20)"
      ],
      "metadata": {
        "id": "_P99z-kmoZYv"
      },
      "execution_count": null,
      "outputs": []
    },
    {
      "cell_type": "code",
      "source": [
        "score,acc=model.evaluate(X_test_scaled,Y_test)\n",
        "print('test loss=',score)\n",
        "print('test accuracy=',acc)"
      ],
      "metadata": {
        "id": "7vAqDX3voeOZ"
      },
      "execution_count": null,
      "outputs": []
    },
    {
      "cell_type": "code",
      "source": [
        "from google.colab.patches import cv2_imshow\n",
        "import cv2\n",
        "\n",
        "# Attempt to read the image\n",
        "input_image = cv2.imread('/content/ripe_0_33.jpeg')\n",
        "\n",
        "# Check if image reading was successful\n",
        "if input_image is not None:\n",
        "    # Display the image\n",
        "    cv2_imshow(input_image)\n",
        "else:\n",
        "    print(\"Failed to read the image file. Please check the file path and format.\")"
      ],
      "metadata": {
        "id": "KR2nNhB1og-b"
      },
      "execution_count": null,
      "outputs": []
    },
    {
      "cell_type": "code",
      "source": [
        "input_image_path=input('path of img to be predicted:')\n",
        "input_image=cv2.imread(input_image_path)\n",
        "cv2_imshow(input_image)\n",
        "input_image_resize=cv2.resize(input_image,(224,224))\n",
        "print(input_image_resize)\n",
        "input_image_scaled=input_image_resize/255\n",
        "image_reshaped=np.reshape(input_image_scaled,[1,224,224,3])\n",
        "input_prediction=model.predict(image_reshaped)\n",
        "# input_pred_label=np.argmax(input_prediction)\n",
        "# print(input_pred_label)\n",
        "print(input_prediction[0][0])\n",
        "if input_prediction[0][0]>.5:\n",
        "  # .59 is just the approx value\n",
        "  print('ripe')\n",
        "else:\n",
        "  print('unripe')"
      ],
      "metadata": {
        "id": "pegFtestokN-"
      },
      "execution_count": null,
      "outputs": []
    }
  ]
}