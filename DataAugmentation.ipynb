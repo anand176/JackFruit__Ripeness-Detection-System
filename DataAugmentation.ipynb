{
  "nbformat": 4,
  "nbformat_minor": 0,
  "metadata": {
    "colab": {
      "provenance": [],
      "authorship_tag": "ABX9TyPDQD3OOe1wN6ukZ4NDOChE",
      "include_colab_link": true
    },
    "kernelspec": {
      "name": "python3",
      "display_name": "Python 3"
    },
    "language_info": {
      "name": "python"
    }
  },
  "cells": [
    {
      "cell_type": "markdown",
      "metadata": {
        "id": "view-in-github",
        "colab_type": "text"
      },
      "source": [
        "<a href=\"https://colab.research.google.com/github/anand176/JackFruit__Ripeness-Detection-System/blob/master/DataAugmentation.ipynb\" target=\"_parent\"><img src=\"https://colab.research.google.com/assets/colab-badge.svg\" alt=\"Open In Colab\"/></a>"
      ]
    },
    {
      "cell_type": "code",
      "execution_count": null,
      "metadata": {
        "id": "ELEueM0YvV81"
      },
      "outputs": [],
      "source": [
        "from keras.preprocessing.image import ImageDataGenerator, array_to_img, img_to_array, load_img\n",
        "\n",
        "datagen = ImageDataGenerator(\n",
        "        rotation_range=40,\n",
        "        width_shift_range=0.2,\n",
        "        height_shift_range=0.2,\n",
        "        shear_range=0.2,\n",
        "        zoom_range=0.2,\n",
        "        horizontal_flip=True,\n",
        "        fill_mode='nearest')\n",
        "\n",
        "img = load_img('/content/unripe22.jpg')  # this is a PIL image\n",
        "x = img_to_array(img)  # this is a Numpy array with shape (3, 150, 150)\n",
        "x = x.reshape((1,) + x.shape)  # this is a Numpy array with shape (1, 3, 150, 150)\n",
        "\n",
        "# the .flow() command below generates batches of randomly transformed images\n",
        "# and saves the results to the `preview/` directory\n",
        "i = 0\n",
        "for batch in datagen.flow(x, batch_size=1,\n",
        "                          save_to_dir=r\"/content/unrippel\", save_prefix='unripe', save_format='jpeg'):\n",
        "    i += 1\n",
        "    if i > 26:\n",
        "        break"
      ]
    },
    {
      "cell_type": "code",
      "source": [
        "!zip -r dataset2.zip /content/unrippel"
      ],
      "metadata": {
        "id": "78I66dadwApH"
      },
      "execution_count": null,
      "outputs": []
    },
    {
      "cell_type": "code",
      "source": [
        "#RESIZING IMAGES\n",
        "original_folder='apple_ripe_unripe/'\n",
        "resize_folder='image_resized/'\n",
        "file_names=os.listdir(original_folder)\n",
        "for i in file_names:\n",
        "    img_path=original_folder + i\n",
        "    img=Image.open(img_path)\n",
        "    img=img.resize((224,224))\n",
        "    img=img.convert('RGB')\n",
        "    newImgPath=resize_folder+i\n",
        "    img.save(newImgPath)"
      ],
      "metadata": {
        "id": "oN7Vp4SfwLgu"
      },
      "execution_count": null,
      "outputs": []
    }
  ]
}